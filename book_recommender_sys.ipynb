{
  "nbformat": 4,
  "nbformat_minor": 0,
  "metadata": {
    "colab": {
      "provenance": []
    },
    "kernelspec": {
      "name": "python3",
      "display_name": "Python 3"
    },
    "language_info": {
      "name": "python"
    }
  },
  "cells": [
    {
      "cell_type": "markdown",
      "source": [],
      "metadata": {
        "id": "X03Be49sJ00F"
      }
    },
    {
      "cell_type": "code",
      "execution_count": null,
      "metadata": {
        "id": "zxvf67yZ2BLF"
      },
      "outputs": [],
      "source": [
        "import numpy as np\n",
        "import pandas as pd"
      ]
    },
    {
      "cell_type": "code",
      "source": [
        "books = pd.read_csv('Books.csv')\n",
        "users = pd.read_csv('Users.csv')\n",
        "ratings=pd.read_csv('Ratings.csv')"
      ],
      "metadata": {
        "id": "L1G8MB1P3C-Z"
      },
      "execution_count": null,
      "outputs": []
    },
    {
      "cell_type": "code",
      "source": [
        "books.head()\n"
      ],
      "metadata": {
        "id": "GRH_KtGD7jgA"
      },
      "execution_count": null,
      "outputs": []
    },
    {
      "cell_type": "code",
      "source": [
        "ratings.head()\n"
      ],
      "metadata": {
        "id": "1Hi8fj507xBx"
      },
      "execution_count": null,
      "outputs": []
    },
    {
      "cell_type": "markdown",
      "source": [
        "Popularity Based Recommender System\n"
      ],
      "metadata": {
        "id": "38yzjB5BJ4v-"
      }
    },
    {
      "cell_type": "code",
      "source": [
        "ratings_with_name = ratings.merge(books,on='ISBN')"
      ],
      "metadata": {
        "id": "Dv_35rRQ8Aj9"
      },
      "execution_count": null,
      "outputs": []
    },
    {
      "cell_type": "code",
      "source": [
        "ratings_with_name.groupby('Book-Title').count()"
      ],
      "metadata": {
        "id": "yZcP2Sjv9RU_"
      },
      "execution_count": null,
      "outputs": []
    },
    {
      "cell_type": "code",
      "source": [
        "ratings_with_name.groupby('Book-Title').count()['Book-Rating']"
      ],
      "metadata": {
        "id": "nVChV60t-wDN"
      },
      "execution_count": null,
      "outputs": []
    },
    {
      "cell_type": "code",
      "source": [],
      "metadata": {
        "id": "FWpv56PL_Q1Z"
      },
      "execution_count": null,
      "outputs": []
    },
    {
      "cell_type": "code",
      "source": [
        "num_rating_df= ratings_with_name.groupby('Book-Title').count()['Book-Rating'].reset_index()"
      ],
      "metadata": {
        "id": "iTEdgOpq_RJl"
      },
      "execution_count": null,
      "outputs": []
    },
    {
      "cell_type": "code",
      "source": [
        "num_rating_df.rename(columns={'Book-Rating':'num-rating'},inplace=True)\n",
        "num_rating_df"
      ],
      "metadata": {
        "id": "zxMkPC7e_qdm"
      },
      "execution_count": null,
      "outputs": []
    },
    {
      "cell_type": "code",
      "source": [
        "avg_rating_df= ratings_with_name.groupby('Book-Title').mean()['Book-Rating'].reset_index()"
      ],
      "metadata": {
        "id": "I7mNHTOiBUxX"
      },
      "execution_count": null,
      "outputs": []
    },
    {
      "cell_type": "code",
      "source": [
        "avg_rating_df= ratings_with_name.groupby('Book-Title').mean()['Book-Rating'].reset_index()\n",
        "avg_rating_df.rename(columns={'Book-Rating':'avg_rating'},inplace=True)\n",
        "avg_rating_df"
      ],
      "metadata": {
        "id": "PA8hSbOjCEoa"
      },
      "execution_count": null,
      "outputs": []
    },
    {
      "cell_type": "code",
      "source": [
        "popular_df = num_rating_df.merge(avg_rating_df,on='Book-Title')\n",
        "popular_df"
      ],
      "metadata": {
        "id": "1bJf1UvLCq5w"
      },
      "execution_count": null,
      "outputs": []
    },
    {
      "cell_type": "code",
      "source": [
        "popular_df=popular_df[popular_df['num-rating']>= 250].sort_values('avg_rating',ascending=False)"
      ],
      "metadata": {
        "id": "r-jDHg6RDGx-"
      },
      "execution_count": null,
      "outputs": []
    },
    {
      "cell_type": "code",
      "source": [
        "popular_df"
      ],
      "metadata": {
        "id": "0KyX_DGyFHxK"
      },
      "execution_count": null,
      "outputs": []
    },
    {
      "cell_type": "code",
      "source": [
        "popular_df.merge(books,on='Book-Title').drop_duplicates('Book-Title')"
      ],
      "metadata": {
        "id": "jcm1-te8FRjB"
      },
      "execution_count": null,
      "outputs": []
    },
    {
      "cell_type": "code",
      "source": [
        "popular_df=popular_df.merge(books,on='Book-Title').drop_duplicates('Book-Title')[['Book-Title','Book-Author','Image-URL-M','num-rating','avg_rating']]"
      ],
      "metadata": {
        "id": "dXJFOsGeGBFd"
      },
      "execution_count": null,
      "outputs": []
    },
    {
      "cell_type": "code",
      "source": [
        "popular_df"
      ],
      "metadata": {
        "id": "y22UXrk6Hdaa"
      },
      "execution_count": null,
      "outputs": []
    },
    {
      "cell_type": "markdown",
      "source": [
        "Collaborative Filtering Based Recommender System\n"
      ],
      "metadata": {
        "id": "uxX6F_EpJmY3"
      }
    },
    {
      "cell_type": "code",
      "source": [
        "ratings_with_name"
      ],
      "metadata": {
        "id": "mBuMLTIOKPQx"
      },
      "execution_count": null,
      "outputs": []
    },
    {
      "cell_type": "code",
      "source": [
        "ratings_with_name.groupby('User-ID').count()['Book-Rating']"
      ],
      "metadata": {
        "id": "y3JzEd10Kaxr"
      },
      "execution_count": null,
      "outputs": []
    },
    {
      "cell_type": "code",
      "source": [
        "ratings_with_name"
      ],
      "metadata": {
        "id": "VqJvWm1hPadq"
      },
      "execution_count": null,
      "outputs": []
    },
    {
      "cell_type": "code",
      "source": [
        "x=ratings_with_name.groupby('User-ID').count()['Book-Rating'] > 200\n",
        "x[x]"
      ],
      "metadata": {
        "id": "Zff_o8JpLX7n"
      },
      "execution_count": null,
      "outputs": []
    },
    {
      "cell_type": "code",
      "source": [
        "ratings_with_name"
      ],
      "metadata": {
        "id": "t0WeUiU4Pd1i"
      },
      "execution_count": null,
      "outputs": []
    },
    {
      "cell_type": "code",
      "source": [
        "padhe_likhe_users=x[x].index"
      ],
      "metadata": {
        "id": "ZOUPeRGsMZsQ"
      },
      "execution_count": null,
      "outputs": []
    },
    {
      "cell_type": "code",
      "source": [
        "filtered_rating=ratings_with_name[ratings_with_name['User-ID'].isin(padhe_likhe_users)]"
      ],
      "metadata": {
        "id": "NOZXIXlKPiiu"
      },
      "execution_count": null,
      "outputs": []
    },
    {
      "cell_type": "code",
      "source": [
        "y=filtered_rating.groupby('Book-Title').count()['Book-Rating'] >= 50\n",
        "famous_books = y[y].index"
      ],
      "metadata": {
        "id": "ysQiUxt3RMSZ"
      },
      "execution_count": null,
      "outputs": []
    },
    {
      "cell_type": "code",
      "source": [
        "filtered_rating['Book-Title'].isin(famous_books)"
      ],
      "metadata": {
        "id": "xrVOR-DaRzaL"
      },
      "execution_count": null,
      "outputs": []
    },
    {
      "cell_type": "code",
      "source": [
        "final_ratings=filtered_rating[filtered_rating['Book-Title'].isin(famous_books)]"
      ],
      "metadata": {
        "id": "l1MXXYRfSuc9"
      },
      "execution_count": null,
      "outputs": []
    },
    {
      "cell_type": "code",
      "source": [
        "pt = final_ratings.pivot_table(index='Book-Title',columns='User-ID',values='Book-Rating')"
      ],
      "metadata": {
        "id": "Kw3VZ_uGUUAg"
      },
      "execution_count": null,
      "outputs": []
    },
    {
      "cell_type": "code",
      "source": [
        "pt.fillna(0,inplace=True)"
      ],
      "metadata": {
        "id": "qUVOb0N9U-Dx"
      },
      "execution_count": null,
      "outputs": []
    },
    {
      "cell_type": "code",
      "source": [
        "pt"
      ],
      "metadata": {
        "id": "3lrelvR4Ve5A"
      },
      "execution_count": null,
      "outputs": []
    },
    {
      "cell_type": "code",
      "source": [
        "from sklearn.metrics.pairwise import cosine_similarity"
      ],
      "metadata": {
        "id": "bHJvcj_YV3FT"
      },
      "execution_count": null,
      "outputs": []
    },
    {
      "cell_type": "code",
      "source": [
        "similarity_scores=cosine_similarity(pt)"
      ],
      "metadata": {
        "id": "ICJ6D_3iWTth"
      },
      "execution_count": null,
      "outputs": []
    },
    {
      "cell_type": "code",
      "source": [
        "similarity_scores.shape"
      ],
      "metadata": {
        "colab": {
          "base_uri": "https://localhost:8080/"
        },
        "id": "6Ml6MZhRW9T5",
        "outputId": "3db15eeb-e237-4197-a203-b2c4885861aa"
      },
      "execution_count": null,
      "outputs": [
        {
          "output_type": "execute_result",
          "data": {
            "text/plain": [
              "(656, 656)"
            ]
          },
          "metadata": {},
          "execution_count": 32
        }
      ]
    },
    {
      "cell_type": "code",
      "source": [
        "def recommend(book_name):\n",
        "  index =np.where(pt.index == book_name)[0][0]\n",
        "  similar_items = sorted(list(enumerate(similarity_scores[index])),key=lambda x :x[1],reverse=True)[1:6]\n",
        "\n",
        "  for i in similar_items:\n",
        "    print(pt.index[i[0]])"
      ],
      "metadata": {
        "id": "yJjUaagqXHzD"
      },
      "execution_count": null,
      "outputs": []
    },
    {
      "cell_type": "code",
      "source": [
        "def recommend(book_name):\n",
        "  index =np.where(pt.index == book_name)[0][0]\n",
        "  similar_items = sorted(list(enumerate(similarity_scores[index])),key=lambda x :x[1],reverse=True)[1:6]\n",
        "\n",
        "  data=[]\n",
        "\n",
        "  for i in similar_items:\n",
        "    item=[]\n",
        "    temp_df = books[books['Book-Title'] == pt.index[i[0]]]\n",
        "    item.extend(list(temp_df.drop_duplicates('Book-Title')['Book-Title'].values))\n",
        "    item.extend(list(temp_df.drop_duplicates('Book-Title')['Book-Author'].values))\n",
        "    item.extend(list(temp_df.drop_duplicates('Book-Title')['Image-URL-M'].values))\n",
        "\n",
        "    data.append(item)\n",
        "\n",
        "  return data"
      ],
      "metadata": {
        "id": "KzUlsdkk4OK9"
      },
      "execution_count": null,
      "outputs": []
    },
    {
      "cell_type": "code",
      "source": [
        "recommend('Message in a Bottle')"
      ],
      "metadata": {
        "colab": {
          "base_uri": "https://localhost:8080/"
        },
        "id": "hc5ZydPTb4N_",
        "outputId": "6e66e756-c56b-41a6-e33a-e55c55ecac9b"
      },
      "execution_count": null,
      "outputs": [
        {
          "output_type": "execute_result",
          "data": {
            "text/plain": [
              "[['Nights in Rodanthe',\n",
              "  'Nicholas Sparks',\n",
              "  'http://images.amazon.com/images/P/0446531332.01.MZZZZZZZ.jpg'],\n",
              " ['A Walk to Remember',\n",
              "  'Nicholas Sparks',\n",
              "  'http://images.amazon.com/images/P/0446608955.01.MZZZZZZZ.jpg'],\n",
              " ['The Mulberry Tree',\n",
              "  'Jude Deveraux',\n",
              "  'http://images.amazon.com/images/P/0743437640.01.MZZZZZZZ.jpg'],\n",
              " [\"River's End\",\n",
              "  'Nora Roberts',\n",
              "  'http://images.amazon.com/images/P/0515127833.01.MZZZZZZZ.jpg'],\n",
              " ['All I Really Need to Know',\n",
              "  'ROBERT FULGHUM',\n",
              "  'http://images.amazon.com/images/P/080410526X.01.MZZZZZZZ.jpg']]"
            ]
          },
          "metadata": {},
          "execution_count": 63
        }
      ]
    },
    {
      "cell_type": "code",
      "source": [
        "np.where(pt.index == '1984')[0][0]"
      ],
      "metadata": {
        "colab": {
          "base_uri": "https://localhost:8080/"
        },
        "id": "8_Gx9N71XVhu",
        "outputId": "ee23218f-b178-4310-d0c9-638b725907a1"
      },
      "execution_count": null,
      "outputs": [
        {
          "output_type": "execute_result",
          "data": {
            "text/plain": [
              "0"
            ]
          },
          "metadata": {},
          "execution_count": 35
        }
      ]
    },
    {
      "cell_type": "markdown",
      "source": [
        "This gave us a list of similarity scores of  book at index 0 with itself and with others."
      ],
      "metadata": {
        "id": "Ealfp-jlYWQg"
      }
    },
    {
      "cell_type": "code",
      "source": [
        "list(enumerate(similarity_scores[0]))"
      ],
      "metadata": {
        "id": "Jmu6CDouYIx_"
      },
      "execution_count": null,
      "outputs": []
    },
    {
      "cell_type": "code",
      "source": [
        "sorted(list(enumerate(similarity_scores[0])),key=lambda x :[1],reverse=True)[1:6]"
      ],
      "metadata": {
        "colab": {
          "base_uri": "https://localhost:8080/"
        },
        "id": "ygutXpN3Yv4i",
        "outputId": "7b130ccb-7530-4b05-ca83-7f26d85c93e4"
      },
      "execution_count": null,
      "outputs": [
        {
          "output_type": "execute_result",
          "data": {
            "text/plain": [
              "[(1, 0.10976162494155216),\n",
              " (2, 0.013319165645513949),\n",
              " (3, 0.0),\n",
              " (4, 0.058053798706210094),\n",
              " (5, 0.03009549402798291)]"
            ]
          },
          "metadata": {},
          "execution_count": 37
        }
      ]
    },
    {
      "cell_type": "code",
      "source": [
        "recommend('1984')"
      ],
      "metadata": {
        "id": "KV_MNHKUcB4n"
      },
      "execution_count": null,
      "outputs": []
    },
    {
      "cell_type": "code",
      "source": [
        "popular_df.columns"
      ],
      "metadata": {
        "colab": {
          "base_uri": "https://localhost:8080/"
        },
        "id": "NkF20TP1fLwy",
        "outputId": "5bbfb6fb-c22d-4fa1-88e8-785e2b61a270"
      },
      "execution_count": null,
      "outputs": [
        {
          "output_type": "execute_result",
          "data": {
            "text/plain": [
              "Index(['Book-Title', 'Book-Author', 'Image-URL-M', 'num-rating', 'avg_rating'], dtype='object')"
            ]
          },
          "metadata": {},
          "execution_count": 48
        }
      ]
    },
    {
      "cell_type": "code",
      "source": [
        "import pickle\n",
        "pickle.dump(popular_df,open('popular.pkl','wb'))"
      ],
      "metadata": {
        "id": "93XGCDidjlTJ"
      },
      "execution_count": null,
      "outputs": []
    },
    {
      "cell_type": "code",
      "source": [
        "list(popular_df['Book-Title'].values)"
      ],
      "metadata": {
        "id": "muycwBg_0XPU"
      },
      "execution_count": null,
      "outputs": []
    },
    {
      "cell_type": "code",
      "source": [
        "pickle.dump(pt,open('pt.pkl','wb'))\n",
        "pickle.dump(books,open('books.pkl','wb'))\n",
        "pickle.dump(similarity_scores,open('similarity_scores.pkl','wb'))"
      ],
      "metadata": {
        "id": "LizX5Ncz74aK"
      },
      "execution_count": null,
      "outputs": []
    }
  ]
}